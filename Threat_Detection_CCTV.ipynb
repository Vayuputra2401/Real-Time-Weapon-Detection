{
  "nbformat": 4,
  "nbformat_minor": 0,
  "metadata": {
    "colab": {
      "provenance": [],
      "gpuType": "T4"
    },
    "kernelspec": {
      "name": "python3",
      "display_name": "Python 3"
    },
    "language_info": {
      "name": "python"
    },
    "accelerator": "GPU"
  },
  "cells": [
    {
      "cell_type": "code",
      "execution_count": null,
      "metadata": {
        "id": "-RU6K87zkHN0"
      },
      "outputs": [],
      "source": [
        "!pip install tensorflow"
      ]
    },
    {
      "cell_type": "code",
      "source": [
        "import tensorflow as tf\n",
        "print(tf.__version__)"
      ],
      "metadata": {
        "colab": {
          "base_uri": "https://localhost:8080/"
        },
        "id": "nzdy3kIjk0mK",
        "outputId": "16ace44a-3056-4659-978c-135de5f19daa"
      },
      "execution_count": 3,
      "outputs": [
        {
          "output_type": "stream",
          "name": "stdout",
          "text": [
            "2.12.0\n"
          ]
        }
      ]
    },
    {
      "cell_type": "code",
      "source": [
        "!git clone https://github.com/tensorflow/models.git"
      ],
      "metadata": {
        "colab": {
          "base_uri": "https://localhost:8080/"
        },
        "id": "VPx7o_71lL7u",
        "outputId": "03fb11f7-22de-4bcd-feac-c91cb6c851a4"
      },
      "execution_count": 4,
      "outputs": [
        {
          "output_type": "stream",
          "name": "stdout",
          "text": [
            "Cloning into 'models'...\n",
            "remote: Enumerating objects: 87324, done.\u001b[K\n",
            "remote: Counting objects: 100% (1078/1078), done.\u001b[K\n",
            "remote: Compressing objects: 100% (515/515), done.\u001b[K\n",
            "remote: Total 87324 (delta 636), reused 952 (delta 552), pack-reused 86246\u001b[K\n",
            "Receiving objects: 100% (87324/87324), 599.24 MiB | 32.83 MiB/s, done.\n",
            "Resolving deltas: 100% (62510/62510), done.\n"
          ]
        }
      ]
    },
    {
      "cell_type": "code",
      "source": [
        "pwd"
      ],
      "metadata": {
        "colab": {
          "base_uri": "https://localhost:8080/",
          "height": 35
        },
        "id": "HvwQZNzim2v_",
        "outputId": "5f266f87-1db4-4cc1-a8ea-4d2fa24e9f01"
      },
      "execution_count": 6,
      "outputs": [
        {
          "output_type": "execute_result",
          "data": {
            "text/plain": [
              "'/content'"
            ],
            "application/vnd.google.colaboratory.intrinsic+json": {
              "type": "string"
            }
          },
          "metadata": {},
          "execution_count": 6
        }
      ]
    },
    {
      "cell_type": "code",
      "source": [
        "cd /content/models/research"
      ],
      "metadata": {
        "colab": {
          "base_uri": "https://localhost:8080/"
        },
        "id": "wkbMHZPfnzGC",
        "outputId": "82a3eab5-c9e3-4eb4-f0b0-413f1e807cb8"
      },
      "execution_count": 7,
      "outputs": [
        {
          "output_type": "stream",
          "name": "stdout",
          "text": [
            "/content/models/research\n"
          ]
        }
      ]
    },
    {
      "cell_type": "code",
      "source": [
        "pwd"
      ],
      "metadata": {
        "colab": {
          "base_uri": "https://localhost:8080/",
          "height": 35
        },
        "id": "8txydyFSn1ft",
        "outputId": "b362aee0-ea1b-4c58-8964-ba0a9a5b31e8"
      },
      "execution_count": 8,
      "outputs": [
        {
          "output_type": "execute_result",
          "data": {
            "text/plain": [
              "'/content/models/research'"
            ],
            "application/vnd.google.colaboratory.intrinsic+json": {
              "type": "string"
            }
          },
          "metadata": {},
          "execution_count": 8
        }
      ]
    },
    {
      "cell_type": "code",
      "source": [
        "!protoc object_detection/protos/*.proto --python_out=."
      ],
      "metadata": {
        "id": "Yej1Yj5Dn3uT"
      },
      "execution_count": 9,
      "outputs": []
    },
    {
      "cell_type": "code",
      "source": [
        "!git clone https://github.com/cocodataset/cocoapi.git"
      ],
      "metadata": {
        "colab": {
          "base_uri": "https://localhost:8080/"
        },
        "id": "GiURL3QZn7Qr",
        "outputId": "424dc605-2149-4e8f-fd01-2d12d4c2bd57"
      },
      "execution_count": 10,
      "outputs": [
        {
          "output_type": "stream",
          "name": "stdout",
          "text": [
            "Cloning into 'cocoapi'...\n",
            "remote: Enumerating objects: 975, done.\u001b[K\n",
            "remote: Total 975 (delta 0), reused 0 (delta 0), pack-reused 975\u001b[K\n",
            "Receiving objects: 100% (975/975), 11.72 MiB | 23.49 MiB/s, done.\n",
            "Resolving deltas: 100% (576/576), done.\n"
          ]
        }
      ]
    },
    {
      "cell_type": "code",
      "source": [
        "cd cocoapi/PythonAPI"
      ],
      "metadata": {
        "colab": {
          "base_uri": "https://localhost:8080/"
        },
        "id": "GQtwl_DTpai8",
        "outputId": "0303976c-0491-424a-9b7b-c44180293be8"
      },
      "execution_count": 11,
      "outputs": [
        {
          "output_type": "stream",
          "name": "stdout",
          "text": [
            "/content/models/research/cocoapi/PythonAPI\n"
          ]
        }
      ]
    },
    {
      "cell_type": "code",
      "source": [
        "!make"
      ],
      "metadata": {
        "id": "0e76E-VjpfSR"
      },
      "execution_count": null,
      "outputs": []
    },
    {
      "cell_type": "code",
      "source": [
        "cp -r pycocotools /content/models/research"
      ],
      "metadata": {
        "id": "Pqr-YG9KphyG"
      },
      "execution_count": 13,
      "outputs": []
    },
    {
      "cell_type": "code",
      "source": [
        "cd .."
      ],
      "metadata": {
        "colab": {
          "base_uri": "https://localhost:8080/"
        },
        "id": "MVvhAr9fprOb",
        "outputId": "28aa56e7-5ea0-4f25-814b-6584fc32c0c6"
      },
      "execution_count": 14,
      "outputs": [
        {
          "output_type": "stream",
          "name": "stdout",
          "text": [
            "/content/models/research/cocoapi\n"
          ]
        }
      ]
    },
    {
      "cell_type": "code",
      "source": [
        "cd .."
      ],
      "metadata": {
        "colab": {
          "base_uri": "https://localhost:8080/"
        },
        "id": "K2zgQ-1ppwqt",
        "outputId": "eb9b1f5d-1b14-48a8-d163-cee2cb86ac3d"
      },
      "execution_count": 15,
      "outputs": [
        {
          "output_type": "stream",
          "name": "stdout",
          "text": [
            "/content/models/research\n"
          ]
        }
      ]
    },
    {
      "cell_type": "code",
      "source": [
        "cp object_detection/packages/tf2/setup.py ."
      ],
      "metadata": {
        "id": "H-h6QSV7px_r"
      },
      "execution_count": 16,
      "outputs": []
    },
    {
      "cell_type": "code",
      "source": [
        "!python -m pip install ."
      ],
      "metadata": {
        "id": "ZRYxQtfnp02m"
      },
      "execution_count": null,
      "outputs": []
    },
    {
      "cell_type": "code",
      "source": [
        "# From within TensorFlow/models/research/\n",
        "!python object_detection/builders/model_builder_tf2_test.py"
      ],
      "metadata": {
        "id": "-DuxHGdvp31r"
      },
      "execution_count": null,
      "outputs": []
    },
    {
      "cell_type": "code",
      "source": [
        "cd /content/training_weapons/pre-trained-models"
      ],
      "metadata": {
        "colab": {
          "base_uri": "https://localhost:8080/"
        },
        "id": "wSZVh8goqX1i",
        "outputId": "2a6f0431-0d75-4834-ed14-ae78019d9d85"
      },
      "execution_count": 19,
      "outputs": [
        {
          "output_type": "stream",
          "name": "stdout",
          "text": [
            "/content/training_weapons/pre-trained-models\n"
          ]
        }
      ]
    },
    {
      "cell_type": "code",
      "source": [
        "!wget http://download.tensorflow.org/models/object_detection/tf2/20200711/ssd_resnet101_v1_fpn_640x640_coco17_tpu-8.tar.gz"
      ],
      "metadata": {
        "colab": {
          "base_uri": "https://localhost:8080/"
        },
        "id": "mQPIRkDO8KbZ",
        "outputId": "ef66e898-c100-4b33-fe46-91061fb6e040"
      },
      "execution_count": 20,
      "outputs": [
        {
          "output_type": "stream",
          "name": "stdout",
          "text": [
            "--2023-08-30 05:35:52--  http://download.tensorflow.org/models/object_detection/tf2/20200711/ssd_resnet101_v1_fpn_640x640_coco17_tpu-8.tar.gz\n",
            "Resolving download.tensorflow.org (download.tensorflow.org)... 173.194.196.128, 2607:f8b0:4001:c1a::80\n",
            "Connecting to download.tensorflow.org (download.tensorflow.org)|173.194.196.128|:80... connected.\n",
            "HTTP request sent, awaiting response... 200 OK\n",
            "Length: 386527459 (369M) [application/x-tar]\n",
            "Saving to: ‘ssd_resnet101_v1_fpn_640x640_coco17_tpu-8.tar.gz’\n",
            "\n",
            "ssd_resnet101_v1_fp 100%[===================>] 368.62M   119MB/s    in 3.1s    \n",
            "\n",
            "2023-08-30 05:35:55 (119 MB/s) - ‘ssd_resnet101_v1_fpn_640x640_coco17_tpu-8.tar.gz’ saved [386527459/386527459]\n",
            "\n"
          ]
        }
      ]
    },
    {
      "cell_type": "code",
      "source": [
        "!tar -xvf ssd_resnet101_v1_fpn_640x640_coco17_tpu-8.tar.gz"
      ],
      "metadata": {
        "colab": {
          "base_uri": "https://localhost:8080/"
        },
        "id": "8UgR-M4y8ODG",
        "outputId": "e73ea363-38a8-4fc0-a616-53500add2346"
      },
      "execution_count": 21,
      "outputs": [
        {
          "output_type": "stream",
          "name": "stdout",
          "text": [
            "ssd_resnet101_v1_fpn_640x640_coco17_tpu-8/\n",
            "ssd_resnet101_v1_fpn_640x640_coco17_tpu-8/checkpoint/\n",
            "ssd_resnet101_v1_fpn_640x640_coco17_tpu-8/checkpoint/ckpt-0.data-00000-of-00001\n",
            "ssd_resnet101_v1_fpn_640x640_coco17_tpu-8/checkpoint/checkpoint\n",
            "ssd_resnet101_v1_fpn_640x640_coco17_tpu-8/checkpoint/ckpt-0.index\n",
            "ssd_resnet101_v1_fpn_640x640_coco17_tpu-8/pipeline.config\n",
            "ssd_resnet101_v1_fpn_640x640_coco17_tpu-8/saved_model/\n",
            "ssd_resnet101_v1_fpn_640x640_coco17_tpu-8/saved_model/saved_model.pb\n",
            "ssd_resnet101_v1_fpn_640x640_coco17_tpu-8/saved_model/assets/\n",
            "ssd_resnet101_v1_fpn_640x640_coco17_tpu-8/saved_model/variables/\n",
            "ssd_resnet101_v1_fpn_640x640_coco17_tpu-8/saved_model/variables/variables.data-00000-of-00001\n",
            "ssd_resnet101_v1_fpn_640x640_coco17_tpu-8/saved_model/variables/variables.index\n"
          ]
        }
      ]
    },
    {
      "cell_type": "code",
      "source": [
        "pwd"
      ],
      "metadata": {
        "colab": {
          "base_uri": "https://localhost:8080/",
          "height": 35
        },
        "id": "mkW2A2JB8aCR",
        "outputId": "1f8b284d-935b-46ed-c9a7-380414c1bea1"
      },
      "execution_count": 22,
      "outputs": [
        {
          "output_type": "execute_result",
          "data": {
            "text/plain": [
              "'/content/training_weapons/pre-trained-models'"
            ],
            "application/vnd.google.colaboratory.intrinsic+json": {
              "type": "string"
            }
          },
          "metadata": {},
          "execution_count": 22
        }
      ]
    },
    {
      "cell_type": "code",
      "source": [
        "cd /content/training_weapons"
      ],
      "metadata": {
        "colab": {
          "base_uri": "https://localhost:8080/"
        },
        "id": "c8ErWYn_8jTN",
        "outputId": "dbe52a3c-6dad-48dd-a356-34c5b8bbdeaf"
      },
      "execution_count": 23,
      "outputs": [
        {
          "output_type": "stream",
          "name": "stdout",
          "text": [
            "/content/training_weapons\n"
          ]
        }
      ]
    },
    {
      "cell_type": "code",
      "source": [
        "# Create train data:\n",
        "!python generate_tfrecord.py -x /content/training_weapons/images/train -l /content/training_weapons/annotations/label_map.pbtxt -o /content/training_weapons/annotations/train.record\n",
        "\n",
        "# Create test data:\n",
        "!python generate_tfrecord.py -x /content/training_weapons/images/test -l /content/training_weapons/annotations/label_map.pbtxt -o /content/training_weapons/annotations/test.record"
      ],
      "metadata": {
        "colab": {
          "base_uri": "https://localhost:8080/"
        },
        "id": "KZhuTkpU9kD0",
        "outputId": "6a72e65c-a433-4a66-a938-240083db80e0"
      },
      "execution_count": 24,
      "outputs": [
        {
          "output_type": "stream",
          "name": "stdout",
          "text": [
            "Successfully created the TFRecord file: /content/training_weapons/annotations/train.record\n",
            "Successfully created the TFRecord file: /content/training_weapons/annotations/test.record\n"
          ]
        }
      ]
    },
    {
      "cell_type": "code",
      "source": [
        "!python model_main_tf2.py --model_dir=/content/training_weapons/models/ssd_resnet101_v1_fpn --pipeline_config_path=/content/training_weapons/models/ssd_resnet101_v1_fpn/pipeline.config"
      ],
      "metadata": {
        "colab": {
          "base_uri": "https://localhost:8080/"
        },
        "id": "OfTtUWjL-o5K",
        "outputId": "14b35cb7-80a4-4077-9797-698690616ba0"
      },
      "execution_count": 26,
      "outputs": [
        {
          "output_type": "stream",
          "name": "stdout",
          "text": [
            "2023-08-30 06:08:32.197849: W tensorflow/compiler/tf2tensorrt/utils/py_utils.cc:38] TF-TRT Warning: Could not find TensorRT\n",
            "2023-08-30 06:08:37.240907: W tensorflow/core/common_runtime/gpu/gpu_bfc_allocator.cc:47] Overriding orig_value setting because the TF_FORCE_GPU_ALLOW_GROWTH environment variable is set. Original config value was 0.\n",
            "INFO:tensorflow:Using MirroredStrategy with devices ('/job:localhost/replica:0/task:0/device:GPU:0',)\n",
            "I0830 06:08:37.241839 138350441377792 mirrored_strategy.py:419] Using MirroredStrategy with devices ('/job:localhost/replica:0/task:0/device:GPU:0',)\n",
            "INFO:tensorflow:Maybe overwriting train_steps: None\n",
            "I0830 06:08:37.264831 138350441377792 config_util.py:552] Maybe overwriting train_steps: None\n",
            "INFO:tensorflow:Maybe overwriting use_bfloat16: False\n",
            "I0830 06:08:37.265012 138350441377792 config_util.py:552] Maybe overwriting use_bfloat16: False\n",
            "WARNING:tensorflow:From /usr/local/lib/python3.10/dist-packages/object_detection/model_lib_v2.py:563: StrategyBase.experimental_distribute_datasets_from_function (from tensorflow.python.distribute.distribute_lib) is deprecated and will be removed in a future version.\n",
            "Instructions for updating:\n",
            "rename to distribute_datasets_from_function\n",
            "W0830 06:08:37.443727 138350441377792 deprecation.py:364] From /usr/local/lib/python3.10/dist-packages/object_detection/model_lib_v2.py:563: StrategyBase.experimental_distribute_datasets_from_function (from tensorflow.python.distribute.distribute_lib) is deprecated and will be removed in a future version.\n",
            "Instructions for updating:\n",
            "rename to distribute_datasets_from_function\n",
            "INFO:tensorflow:Reading unweighted datasets: ['/content/training_weapons/annotations/train.record']\n",
            "I0830 06:08:37.452178 138350441377792 dataset_builder.py:162] Reading unweighted datasets: ['/content/training_weapons/annotations/train.record']\n",
            "INFO:tensorflow:Reading record datasets for input file: ['/content/training_weapons/annotations/train.record']\n",
            "I0830 06:08:37.452373 138350441377792 dataset_builder.py:79] Reading record datasets for input file: ['/content/training_weapons/annotations/train.record']\n",
            "INFO:tensorflow:Number of filenames to read: 1\n",
            "I0830 06:08:37.452455 138350441377792 dataset_builder.py:80] Number of filenames to read: 1\n",
            "WARNING:tensorflow:num_readers has been reduced to 1 to match input file shards.\n",
            "W0830 06:08:37.452525 138350441377792 dataset_builder.py:86] num_readers has been reduced to 1 to match input file shards.\n",
            "WARNING:tensorflow:From /usr/local/lib/python3.10/dist-packages/object_detection/builders/dataset_builder.py:100: parallel_interleave (from tensorflow.python.data.experimental.ops.interleave_ops) is deprecated and will be removed in a future version.\n",
            "Instructions for updating:\n",
            "Use `tf.data.Dataset.interleave(map_func, cycle_length, block_length, num_parallel_calls=tf.data.AUTOTUNE)` instead. If sloppy execution is desired, use `tf.data.Options.deterministic`.\n",
            "W0830 06:08:37.459978 138350441377792 deprecation.py:364] From /usr/local/lib/python3.10/dist-packages/object_detection/builders/dataset_builder.py:100: parallel_interleave (from tensorflow.python.data.experimental.ops.interleave_ops) is deprecated and will be removed in a future version.\n",
            "Instructions for updating:\n",
            "Use `tf.data.Dataset.interleave(map_func, cycle_length, block_length, num_parallel_calls=tf.data.AUTOTUNE)` instead. If sloppy execution is desired, use `tf.data.Options.deterministic`.\n",
            "WARNING:tensorflow:From /usr/local/lib/python3.10/dist-packages/object_detection/builders/dataset_builder.py:235: DatasetV1.map_with_legacy_function (from tensorflow.python.data.ops.dataset_ops) is deprecated and will be removed in a future version.\n",
            "Instructions for updating:\n",
            "Use `tf.data.Dataset.map()\n",
            "W0830 06:08:37.478944 138350441377792 deprecation.py:364] From /usr/local/lib/python3.10/dist-packages/object_detection/builders/dataset_builder.py:235: DatasetV1.map_with_legacy_function (from tensorflow.python.data.ops.dataset_ops) is deprecated and will be removed in a future version.\n",
            "Instructions for updating:\n",
            "Use `tf.data.Dataset.map()\n",
            "WARNING:tensorflow:From /usr/local/lib/python3.10/dist-packages/tensorflow/python/util/dispatch.py:1176: sparse_to_dense (from tensorflow.python.ops.sparse_ops) is deprecated and will be removed in a future version.\n",
            "Instructions for updating:\n",
            "Create a `tf.sparse.SparseTensor` and use `tf.sparse.to_dense` instead.\n",
            "W0830 06:08:44.594202 138350441377792 deprecation.py:364] From /usr/local/lib/python3.10/dist-packages/tensorflow/python/util/dispatch.py:1176: sparse_to_dense (from tensorflow.python.ops.sparse_ops) is deprecated and will be removed in a future version.\n",
            "Instructions for updating:\n",
            "Create a `tf.sparse.SparseTensor` and use `tf.sparse.to_dense` instead.\n",
            "WARNING:tensorflow:From /usr/local/lib/python3.10/dist-packages/tensorflow/python/util/dispatch.py:1176: sample_distorted_bounding_box (from tensorflow.python.ops.image_ops_impl) is deprecated and will be removed in a future version.\n",
            "Instructions for updating:\n",
            "`seed2` arg is deprecated.Use sample_distorted_bounding_box_v2 instead.\n",
            "W0830 06:08:49.096367 138350441377792 deprecation.py:364] From /usr/local/lib/python3.10/dist-packages/tensorflow/python/util/dispatch.py:1176: sample_distorted_bounding_box (from tensorflow.python.ops.image_ops_impl) is deprecated and will be removed in a future version.\n",
            "Instructions for updating:\n",
            "`seed2` arg is deprecated.Use sample_distorted_bounding_box_v2 instead.\n",
            "WARNING:tensorflow:From /usr/local/lib/python3.10/dist-packages/tensorflow/python/util/dispatch.py:1176: to_float (from tensorflow.python.ops.math_ops) is deprecated and will be removed in a future version.\n",
            "Instructions for updating:\n",
            "Use `tf.cast` instead.\n",
            "W0830 06:08:52.001397 138350441377792 deprecation.py:364] From /usr/local/lib/python3.10/dist-packages/tensorflow/python/util/dispatch.py:1176: to_float (from tensorflow.python.ops.math_ops) is deprecated and will be removed in a future version.\n",
            "Instructions for updating:\n",
            "Use `tf.cast` instead.\n",
            "/usr/local/lib/python3.10/dist-packages/keras/src/backend.py:452: UserWarning: `tf.keras.backend.set_learning_phase` is deprecated and will be removed after 2020-10-11. To update it, simply pass a True/False value to the `training` argument of the `__call__` method of your layer or model.\n",
            "  warnings.warn(\n",
            "I0830 06:09:03.784542 138345548838464 api.py:460] feature_map_spatial_dims: [(80, 80), (40, 40), (20, 20), (10, 10), (5, 5)]\n",
            "I0830 06:09:16.787272 138345548838464 api.py:460] feature_map_spatial_dims: [(80, 80), (40, 40), (20, 20), (10, 10), (5, 5)]\n",
            "2023-08-30 06:09:21.283962: W tensorflow/tsl/framework/cpu_allocator_impl.cc:83] Allocation of 20460000 exceeds 10% of free system memory.\n",
            "2023-08-30 06:09:22.025229: W tensorflow/tsl/framework/cpu_allocator_impl.cc:83] Allocation of 20460000 exceeds 10% of free system memory.\n",
            "2023-08-30 06:09:22.038211: W tensorflow/tsl/framework/cpu_allocator_impl.cc:83] Allocation of 20460000 exceeds 10% of free system memory.\n",
            "2023-08-30 06:09:22.067599: W tensorflow/tsl/framework/cpu_allocator_impl.cc:83] Allocation of 20460000 exceeds 10% of free system memory.\n",
            "2023-08-30 06:09:22.079573: W tensorflow/tsl/framework/cpu_allocator_impl.cc:83] Allocation of 20460000 exceeds 10% of free system memory.\n",
            "INFO:tensorflow:Reduce to /job:localhost/replica:0/task:0/device:CPU:0 then broadcast to ('/job:localhost/replica:0/task:0/device:CPU:0',).\n",
            "I0830 06:09:36.811132 138350441377792 cross_device_ops.py:617] Reduce to /job:localhost/replica:0/task:0/device:CPU:0 then broadcast to ('/job:localhost/replica:0/task:0/device:CPU:0',).\n",
            "INFO:tensorflow:Reduce to /job:localhost/replica:0/task:0/device:CPU:0 then broadcast to ('/job:localhost/replica:0/task:0/device:CPU:0',).\n",
            "I0830 06:09:36.815402 138350441377792 cross_device_ops.py:617] Reduce to /job:localhost/replica:0/task:0/device:CPU:0 then broadcast to ('/job:localhost/replica:0/task:0/device:CPU:0',).\n",
            "INFO:tensorflow:Reduce to /job:localhost/replica:0/task:0/device:CPU:0 then broadcast to ('/job:localhost/replica:0/task:0/device:CPU:0',).\n",
            "I0830 06:09:36.816948 138350441377792 cross_device_ops.py:617] Reduce to /job:localhost/replica:0/task:0/device:CPU:0 then broadcast to ('/job:localhost/replica:0/task:0/device:CPU:0',).\n",
            "INFO:tensorflow:Reduce to /job:localhost/replica:0/task:0/device:CPU:0 then broadcast to ('/job:localhost/replica:0/task:0/device:CPU:0',).\n",
            "I0830 06:09:36.818272 138350441377792 cross_device_ops.py:617] Reduce to /job:localhost/replica:0/task:0/device:CPU:0 then broadcast to ('/job:localhost/replica:0/task:0/device:CPU:0',).\n",
            "INFO:tensorflow:Reduce to /job:localhost/replica:0/task:0/device:CPU:0 then broadcast to ('/job:localhost/replica:0/task:0/device:CPU:0',).\n",
            "I0830 06:09:36.824175 138350441377792 cross_device_ops.py:617] Reduce to /job:localhost/replica:0/task:0/device:CPU:0 then broadcast to ('/job:localhost/replica:0/task:0/device:CPU:0',).\n",
            "INFO:tensorflow:Reduce to /job:localhost/replica:0/task:0/device:CPU:0 then broadcast to ('/job:localhost/replica:0/task:0/device:CPU:0',).\n",
            "I0830 06:09:36.825670 138350441377792 cross_device_ops.py:617] Reduce to /job:localhost/replica:0/task:0/device:CPU:0 then broadcast to ('/job:localhost/replica:0/task:0/device:CPU:0',).\n",
            "INFO:tensorflow:Reduce to /job:localhost/replica:0/task:0/device:CPU:0 then broadcast to ('/job:localhost/replica:0/task:0/device:CPU:0',).\n",
            "I0830 06:09:36.827292 138350441377792 cross_device_ops.py:617] Reduce to /job:localhost/replica:0/task:0/device:CPU:0 then broadcast to ('/job:localhost/replica:0/task:0/device:CPU:0',).\n",
            "INFO:tensorflow:Reduce to /job:localhost/replica:0/task:0/device:CPU:0 then broadcast to ('/job:localhost/replica:0/task:0/device:CPU:0',).\n",
            "I0830 06:09:36.828718 138350441377792 cross_device_ops.py:617] Reduce to /job:localhost/replica:0/task:0/device:CPU:0 then broadcast to ('/job:localhost/replica:0/task:0/device:CPU:0',).\n",
            "INFO:tensorflow:Reduce to /job:localhost/replica:0/task:0/device:CPU:0 then broadcast to ('/job:localhost/replica:0/task:0/device:CPU:0',).\n",
            "I0830 06:09:36.834620 138350441377792 cross_device_ops.py:617] Reduce to /job:localhost/replica:0/task:0/device:CPU:0 then broadcast to ('/job:localhost/replica:0/task:0/device:CPU:0',).\n",
            "INFO:tensorflow:Reduce to /job:localhost/replica:0/task:0/device:CPU:0 then broadcast to ('/job:localhost/replica:0/task:0/device:CPU:0',).\n",
            "I0830 06:09:36.836188 138350441377792 cross_device_ops.py:617] Reduce to /job:localhost/replica:0/task:0/device:CPU:0 then broadcast to ('/job:localhost/replica:0/task:0/device:CPU:0',).\n",
            "WARNING:tensorflow:From /usr/local/lib/python3.10/dist-packages/tensorflow/python/util/deprecation.py:648: calling map_fn_v2 (from tensorflow.python.ops.map_fn) with dtype is deprecated and will be removed in a future version.\n",
            "Instructions for updating:\n",
            "Use fn_output_signature instead\n",
            "W0830 06:09:40.261759 138345644545600 deprecation.py:569] From /usr/local/lib/python3.10/dist-packages/tensorflow/python/util/deprecation.py:648: calling map_fn_v2 (from tensorflow.python.ops.map_fn) with dtype is deprecated and will be removed in a future version.\n",
            "Instructions for updating:\n",
            "Use fn_output_signature instead\n",
            "I0830 06:09:42.276731 138345644545600 api.py:460] feature_map_spatial_dims: [(80, 80), (40, 40), (20, 20), (10, 10), (5, 5)]\n",
            "I0830 06:09:52.959736 138345644545600 api.py:460] feature_map_spatial_dims: [(80, 80), (40, 40), (20, 20), (10, 10), (5, 5)]\n",
            "I0830 06:10:04.450433 138345644545600 api.py:460] feature_map_spatial_dims: [(80, 80), (40, 40), (20, 20), (10, 10), (5, 5)]\n",
            "I0830 06:10:12.800214 138345644545600 api.py:460] feature_map_spatial_dims: [(80, 80), (40, 40), (20, 20), (10, 10), (5, 5)]\n",
            "2023-08-30 06:10:39.049885: W tensorflow/tsl/framework/bfc_allocator.cc:366] Garbage collection: deallocate free memory regions (i.e., allocations) so that we can re-allocate a larger region to avoid OOM due to memory fragmentation. If you see this message frequently, you are running near the threshold of the available device memory and re-allocation may incur great performance overhead. You may try smaller batch sizes to observe the performance impact. Set TF_ENABLE_GPU_GARBAGE_COLLECTION=false if you'd like to disable this feature.\n",
            "INFO:tensorflow:Step 100 per-step time 1.346s\n",
            "I0830 06:11:54.236564 138350441377792 model_lib_v2.py:705] Step 100 per-step time 1.346s\n",
            "INFO:tensorflow:{'Loss/classification_loss': 0.5553155,\n",
            " 'Loss/localization_loss': 0.63396114,\n",
            " 'Loss/regularization_loss': 0.32687324,\n",
            " 'Loss/total_loss': 1.51615,\n",
            " 'learning_rate': 0.014666351}\n",
            "I0830 06:11:54.236994 138350441377792 model_lib_v2.py:708] {'Loss/classification_loss': 0.5553155,\n",
            " 'Loss/localization_loss': 0.63396114,\n",
            " 'Loss/regularization_loss': 0.32687324,\n",
            " 'Loss/total_loss': 1.51615,\n",
            " 'learning_rate': 0.014666351}\n",
            "INFO:tensorflow:Step 200 per-step time 0.773s\n",
            "I0830 06:13:11.469469 138350441377792 model_lib_v2.py:705] Step 200 per-step time 0.773s\n",
            "INFO:tensorflow:{'Loss/classification_loss': 0.3133535,\n",
            " 'Loss/localization_loss': 0.20897235,\n",
            " 'Loss/regularization_loss': 0.3264706,\n",
            " 'Loss/total_loss': 0.8487965,\n",
            " 'learning_rate': 0.0159997}\n",
            "I0830 06:13:11.470866 138350441377792 model_lib_v2.py:708] {'Loss/classification_loss': 0.3133535,\n",
            " 'Loss/localization_loss': 0.20897235,\n",
            " 'Loss/regularization_loss': 0.3264706,\n",
            " 'Loss/total_loss': 0.8487965,\n",
            " 'learning_rate': 0.0159997}\n",
            "INFO:tensorflow:Step 300 per-step time 0.774s\n",
            "I0830 06:14:28.816205 138350441377792 model_lib_v2.py:705] Step 300 per-step time 0.774s\n",
            "INFO:tensorflow:{'Loss/classification_loss': 0.3891695,\n",
            " 'Loss/localization_loss': 0.4340884,\n",
            " 'Loss/regularization_loss': 0.32524204,\n",
            " 'Loss/total_loss': 1.1485,\n",
            " 'learning_rate': 0.01733305}\n",
            "I0830 06:14:28.816532 138350441377792 model_lib_v2.py:708] {'Loss/classification_loss': 0.3891695,\n",
            " 'Loss/localization_loss': 0.4340884,\n",
            " 'Loss/regularization_loss': 0.32524204,\n",
            " 'Loss/total_loss': 1.1485,\n",
            " 'learning_rate': 0.01733305}\n",
            "INFO:tensorflow:Step 400 per-step time 0.775s\n",
            "I0830 06:15:46.313985 138350441377792 model_lib_v2.py:705] Step 400 per-step time 0.775s\n",
            "INFO:tensorflow:{'Loss/classification_loss': 0.33158046,\n",
            " 'Loss/localization_loss': 0.24014911,\n",
            " 'Loss/regularization_loss': 0.32774585,\n",
            " 'Loss/total_loss': 0.8994754,\n",
            " 'learning_rate': 0.0186664}\n",
            "I0830 06:15:46.314440 138350441377792 model_lib_v2.py:708] {'Loss/classification_loss': 0.33158046,\n",
            " 'Loss/localization_loss': 0.24014911,\n",
            " 'Loss/regularization_loss': 0.32774585,\n",
            " 'Loss/total_loss': 0.8994754,\n",
            " 'learning_rate': 0.0186664}\n",
            "INFO:tensorflow:Step 500 per-step time 0.774s\n",
            "I0830 06:17:03.743256 138350441377792 model_lib_v2.py:705] Step 500 per-step time 0.774s\n",
            "INFO:tensorflow:{'Loss/classification_loss': 0.25810903,\n",
            " 'Loss/localization_loss': 0.21078461,\n",
            " 'Loss/regularization_loss': 0.3265193,\n",
            " 'Loss/total_loss': 0.79541296,\n",
            " 'learning_rate': 0.01999975}\n",
            "I0830 06:17:03.743687 138350441377792 model_lib_v2.py:708] {'Loss/classification_loss': 0.25810903,\n",
            " 'Loss/localization_loss': 0.21078461,\n",
            " 'Loss/regularization_loss': 0.3265193,\n",
            " 'Loss/total_loss': 0.79541296,\n",
            " 'learning_rate': 0.01999975}\n",
            "INFO:tensorflow:Step 600 per-step time 0.774s\n",
            "I0830 06:18:21.144718 138350441377792 model_lib_v2.py:705] Step 600 per-step time 0.774s\n",
            "INFO:tensorflow:{'Loss/classification_loss': 0.42416418,\n",
            " 'Loss/localization_loss': 0.15308854,\n",
            " 'Loss/regularization_loss': 0.32559466,\n",
            " 'Loss/total_loss': 0.9028474,\n",
            " 'learning_rate': 0.0213331}\n",
            "I0830 06:18:21.145223 138350441377792 model_lib_v2.py:708] {'Loss/classification_loss': 0.42416418,\n",
            " 'Loss/localization_loss': 0.15308854,\n",
            " 'Loss/regularization_loss': 0.32559466,\n",
            " 'Loss/total_loss': 0.9028474,\n",
            " 'learning_rate': 0.0213331}\n",
            "INFO:tensorflow:Step 700 per-step time 0.775s\n",
            "I0830 06:19:38.648954 138350441377792 model_lib_v2.py:705] Step 700 per-step time 0.775s\n",
            "INFO:tensorflow:{'Loss/classification_loss': 0.27169675,\n",
            " 'Loss/localization_loss': 0.18572788,\n",
            " 'Loss/regularization_loss': 0.3243581,\n",
            " 'Loss/total_loss': 0.78178275,\n",
            " 'learning_rate': 0.02266645}\n",
            "I0830 06:19:38.649331 138350441377792 model_lib_v2.py:708] {'Loss/classification_loss': 0.27169675,\n",
            " 'Loss/localization_loss': 0.18572788,\n",
            " 'Loss/regularization_loss': 0.3243581,\n",
            " 'Loss/total_loss': 0.78178275,\n",
            " 'learning_rate': 0.02266645}\n",
            "INFO:tensorflow:Step 800 per-step time 0.774s\n",
            "I0830 06:20:56.036415 138350441377792 model_lib_v2.py:705] Step 800 per-step time 0.774s\n",
            "INFO:tensorflow:{'Loss/classification_loss': 0.30065787,\n",
            " 'Loss/localization_loss': 0.16576785,\n",
            " 'Loss/regularization_loss': 0.32255134,\n",
            " 'Loss/total_loss': 0.788977,\n",
            " 'learning_rate': 0.023999799}\n",
            "I0830 06:20:56.036851 138350441377792 model_lib_v2.py:708] {'Loss/classification_loss': 0.30065787,\n",
            " 'Loss/localization_loss': 0.16576785,\n",
            " 'Loss/regularization_loss': 0.32255134,\n",
            " 'Loss/total_loss': 0.788977,\n",
            " 'learning_rate': 0.023999799}\n",
            "INFO:tensorflow:Step 900 per-step time 0.774s\n",
            "I0830 06:22:13.412226 138350441377792 model_lib_v2.py:705] Step 900 per-step time 0.774s\n",
            "INFO:tensorflow:{'Loss/classification_loss': 0.15998238,\n",
            " 'Loss/localization_loss': 0.097399734,\n",
            " 'Loss/regularization_loss': 0.32038087,\n",
            " 'Loss/total_loss': 0.57776296,\n",
            " 'learning_rate': 0.025333151}\n",
            "I0830 06:22:13.412567 138350441377792 model_lib_v2.py:708] {'Loss/classification_loss': 0.15998238,\n",
            " 'Loss/localization_loss': 0.097399734,\n",
            " 'Loss/regularization_loss': 0.32038087,\n",
            " 'Loss/total_loss': 0.57776296,\n",
            " 'learning_rate': 0.025333151}\n",
            "INFO:tensorflow:Step 1000 per-step time 0.774s\n",
            "I0830 06:23:30.807185 138350441377792 model_lib_v2.py:705] Step 1000 per-step time 0.774s\n",
            "INFO:tensorflow:{'Loss/classification_loss': 0.2257985,\n",
            " 'Loss/localization_loss': 0.21266563,\n",
            " 'Loss/regularization_loss': 0.31838882,\n",
            " 'Loss/total_loss': 0.756853,\n",
            " 'learning_rate': 0.0266665}\n",
            "I0830 06:23:30.807859 138350441377792 model_lib_v2.py:708] {'Loss/classification_loss': 0.2257985,\n",
            " 'Loss/localization_loss': 0.21266563,\n",
            " 'Loss/regularization_loss': 0.31838882,\n",
            " 'Loss/total_loss': 0.756853,\n",
            " 'learning_rate': 0.0266665}\n",
            "INFO:tensorflow:Step 1100 per-step time 0.838s\n",
            "I0830 06:24:54.629928 138350441377792 model_lib_v2.py:705] Step 1100 per-step time 0.838s\n",
            "INFO:tensorflow:{'Loss/classification_loss': 0.1760468,\n",
            " 'Loss/localization_loss': 0.12416654,\n",
            " 'Loss/regularization_loss': 0.3169639,\n",
            " 'Loss/total_loss': 0.61717725,\n",
            " 'learning_rate': 0.02799985}\n",
            "I0830 06:24:54.630262 138350441377792 model_lib_v2.py:708] {'Loss/classification_loss': 0.1760468,\n",
            " 'Loss/localization_loss': 0.12416654,\n",
            " 'Loss/regularization_loss': 0.3169639,\n",
            " 'Loss/total_loss': 0.61717725,\n",
            " 'learning_rate': 0.02799985}\n",
            "INFO:tensorflow:Step 1200 per-step time 0.773s\n",
            "I0830 06:26:11.978926 138350441377792 model_lib_v2.py:705] Step 1200 per-step time 0.773s\n",
            "INFO:tensorflow:{'Loss/classification_loss': 0.18467452,\n",
            " 'Loss/localization_loss': 0.12211399,\n",
            " 'Loss/regularization_loss': 0.3147058,\n",
            " 'Loss/total_loss': 0.6214943,\n",
            " 'learning_rate': 0.0293332}\n",
            "I0830 06:26:11.979359 138350441377792 model_lib_v2.py:708] {'Loss/classification_loss': 0.18467452,\n",
            " 'Loss/localization_loss': 0.12211399,\n",
            " 'Loss/regularization_loss': 0.3147058,\n",
            " 'Loss/total_loss': 0.6214943,\n",
            " 'learning_rate': 0.0293332}\n",
            "INFO:tensorflow:Step 1300 per-step time 0.774s\n",
            "I0830 06:27:29.411351 138350441377792 model_lib_v2.py:705] Step 1300 per-step time 0.774s\n",
            "INFO:tensorflow:{'Loss/classification_loss': 0.23133545,\n",
            " 'Loss/localization_loss': 0.16104634,\n",
            " 'Loss/regularization_loss': 0.312433,\n",
            " 'Loss/total_loss': 0.7048148,\n",
            " 'learning_rate': 0.03066655}\n",
            "I0830 06:27:29.411698 138350441377792 model_lib_v2.py:708] {'Loss/classification_loss': 0.23133545,\n",
            " 'Loss/localization_loss': 0.16104634,\n",
            " 'Loss/regularization_loss': 0.312433,\n",
            " 'Loss/total_loss': 0.7048148,\n",
            " 'learning_rate': 0.03066655}\n",
            "INFO:tensorflow:Step 1400 per-step time 0.774s\n",
            "I0830 06:28:46.814489 138350441377792 model_lib_v2.py:705] Step 1400 per-step time 0.774s\n",
            "INFO:tensorflow:{'Loss/classification_loss': 0.2184439,\n",
            " 'Loss/localization_loss': 0.099633306,\n",
            " 'Loss/regularization_loss': 0.3099352,\n",
            " 'Loss/total_loss': 0.6280124,\n",
            " 'learning_rate': 0.0319999}\n",
            "I0830 06:28:46.814903 138350441377792 model_lib_v2.py:708] {'Loss/classification_loss': 0.2184439,\n",
            " 'Loss/localization_loss': 0.099633306,\n",
            " 'Loss/regularization_loss': 0.3099352,\n",
            " 'Loss/total_loss': 0.6280124,\n",
            " 'learning_rate': 0.0319999}\n",
            "INFO:tensorflow:Step 1500 per-step time 0.775s\n",
            "I0830 06:30:04.351790 138350441377792 model_lib_v2.py:705] Step 1500 per-step time 0.775s\n",
            "INFO:tensorflow:{'Loss/classification_loss': 0.2485094,\n",
            " 'Loss/localization_loss': 0.13199946,\n",
            " 'Loss/regularization_loss': 0.30665255,\n",
            " 'Loss/total_loss': 0.68716145,\n",
            " 'learning_rate': 0.03333325}\n",
            "I0830 06:30:04.352203 138350441377792 model_lib_v2.py:708] {'Loss/classification_loss': 0.2485094,\n",
            " 'Loss/localization_loss': 0.13199946,\n",
            " 'Loss/regularization_loss': 0.30665255,\n",
            " 'Loss/total_loss': 0.68716145,\n",
            " 'learning_rate': 0.03333325}\n",
            "INFO:tensorflow:Step 1600 per-step time 0.775s\n",
            "I0830 06:31:21.863424 138350441377792 model_lib_v2.py:705] Step 1600 per-step time 0.775s\n",
            "INFO:tensorflow:{'Loss/classification_loss': 0.17602542,\n",
            " 'Loss/localization_loss': 0.08757806,\n",
            " 'Loss/regularization_loss': 0.30286473,\n",
            " 'Loss/total_loss': 0.56646824,\n",
            " 'learning_rate': 0.034666598}\n",
            "I0830 06:31:21.863893 138350441377792 model_lib_v2.py:708] {'Loss/classification_loss': 0.17602542,\n",
            " 'Loss/localization_loss': 0.08757806,\n",
            " 'Loss/regularization_loss': 0.30286473,\n",
            " 'Loss/total_loss': 0.56646824,\n",
            " 'learning_rate': 0.034666598}\n",
            "INFO:tensorflow:Step 1700 per-step time 0.775s\n",
            "I0830 06:32:39.406159 138350441377792 model_lib_v2.py:705] Step 1700 per-step time 0.775s\n",
            "INFO:tensorflow:{'Loss/classification_loss': 0.1567688,\n",
            " 'Loss/localization_loss': 0.09007994,\n",
            " 'Loss/regularization_loss': 0.2990676,\n",
            " 'Loss/total_loss': 0.5459163,\n",
            " 'learning_rate': 0.03599995}\n",
            "I0830 06:32:39.406514 138350441377792 model_lib_v2.py:708] {'Loss/classification_loss': 0.1567688,\n",
            " 'Loss/localization_loss': 0.09007994,\n",
            " 'Loss/regularization_loss': 0.2990676,\n",
            " 'Loss/total_loss': 0.5459163,\n",
            " 'learning_rate': 0.03599995}\n",
            "INFO:tensorflow:Step 1800 per-step time 0.773s\n",
            "I0830 06:33:56.742972 138350441377792 model_lib_v2.py:705] Step 1800 per-step time 0.773s\n",
            "INFO:tensorflow:{'Loss/classification_loss': 0.17828265,\n",
            " 'Loss/localization_loss': 0.0810124,\n",
            " 'Loss/regularization_loss': 0.2956255,\n",
            " 'Loss/total_loss': 0.55492055,\n",
            " 'learning_rate': 0.037333302}\n",
            "I0830 06:33:56.743408 138350441377792 model_lib_v2.py:708] {'Loss/classification_loss': 0.17828265,\n",
            " 'Loss/localization_loss': 0.0810124,\n",
            " 'Loss/regularization_loss': 0.2956255,\n",
            " 'Loss/total_loss': 0.55492055,\n",
            " 'learning_rate': 0.037333302}\n",
            "INFO:tensorflow:Step 1900 per-step time 0.774s\n",
            "I0830 06:35:14.182558 138350441377792 model_lib_v2.py:705] Step 1900 per-step time 0.774s\n",
            "INFO:tensorflow:{'Loss/classification_loss': 0.13157465,\n",
            " 'Loss/localization_loss': 0.059522204,\n",
            " 'Loss/regularization_loss': 0.29212674,\n",
            " 'Loss/total_loss': 0.4832236,\n",
            " 'learning_rate': 0.03866665}\n",
            "I0830 06:35:14.182924 138350441377792 model_lib_v2.py:708] {'Loss/classification_loss': 0.13157465,\n",
            " 'Loss/localization_loss': 0.059522204,\n",
            " 'Loss/regularization_loss': 0.29212674,\n",
            " 'Loss/total_loss': 0.4832236,\n",
            " 'learning_rate': 0.03866665}\n",
            "INFO:tensorflow:Step 2000 per-step time 0.775s\n",
            "I0830 06:36:31.696621 138350441377792 model_lib_v2.py:705] Step 2000 per-step time 0.775s\n",
            "INFO:tensorflow:{'Loss/classification_loss': 0.14975175,\n",
            " 'Loss/localization_loss': 0.091844566,\n",
            " 'Loss/regularization_loss': 0.2888304,\n",
            " 'Loss/total_loss': 0.53042674,\n",
            " 'learning_rate': 0.04}\n",
            "I0830 06:36:31.697109 138350441377792 model_lib_v2.py:708] {'Loss/classification_loss': 0.14975175,\n",
            " 'Loss/localization_loss': 0.091844566,\n",
            " 'Loss/regularization_loss': 0.2888304,\n",
            " 'Loss/total_loss': 0.53042674,\n",
            " 'learning_rate': 0.04}\n",
            "INFO:tensorflow:Step 2100 per-step time 0.836s\n",
            "I0830 06:37:55.325562 138350441377792 model_lib_v2.py:705] Step 2100 per-step time 0.836s\n",
            "INFO:tensorflow:{'Loss/classification_loss': 0.35077232,\n",
            " 'Loss/localization_loss': 0.119117044,\n",
            " 'Loss/regularization_loss': 0.28444222,\n",
            " 'Loss/total_loss': 0.7543316,\n",
            " 'learning_rate': 0.039998136}\n",
            "I0830 06:37:55.326054 138350441377792 model_lib_v2.py:708] {'Loss/classification_loss': 0.35077232,\n",
            " 'Loss/localization_loss': 0.119117044,\n",
            " 'Loss/regularization_loss': 0.28444222,\n",
            " 'Loss/total_loss': 0.7543316,\n",
            " 'learning_rate': 0.039998136}\n",
            "INFO:tensorflow:Step 2200 per-step time 0.775s\n",
            "I0830 06:39:12.783977 138350441377792 model_lib_v2.py:705] Step 2200 per-step time 0.775s\n",
            "INFO:tensorflow:{'Loss/classification_loss': 0.15887032,\n",
            " 'Loss/localization_loss': 0.09571048,\n",
            " 'Loss/regularization_loss': 0.28154638,\n",
            " 'Loss/total_loss': 0.5361272,\n",
            " 'learning_rate': 0.039992537}\n",
            "I0830 06:39:12.784350 138350441377792 model_lib_v2.py:708] {'Loss/classification_loss': 0.15887032,\n",
            " 'Loss/localization_loss': 0.09571048,\n",
            " 'Loss/regularization_loss': 0.28154638,\n",
            " 'Loss/total_loss': 0.5361272,\n",
            " 'learning_rate': 0.039992537}\n",
            "INFO:tensorflow:Step 2300 per-step time 0.774s\n",
            "I0830 06:40:30.231302 138350441377792 model_lib_v2.py:705] Step 2300 per-step time 0.774s\n",
            "INFO:tensorflow:{'Loss/classification_loss': 0.16452822,\n",
            " 'Loss/localization_loss': 0.040250145,\n",
            " 'Loss/regularization_loss': 0.27754632,\n",
            " 'Loss/total_loss': 0.4823247,\n",
            " 'learning_rate': 0.03998321}\n",
            "I0830 06:40:30.231751 138350441377792 model_lib_v2.py:708] {'Loss/classification_loss': 0.16452822,\n",
            " 'Loss/localization_loss': 0.040250145,\n",
            " 'Loss/regularization_loss': 0.27754632,\n",
            " 'Loss/total_loss': 0.4823247,\n",
            " 'learning_rate': 0.03998321}\n",
            "INFO:tensorflow:Step 2400 per-step time 0.774s\n",
            "I0830 06:41:47.619790 138350441377792 model_lib_v2.py:705] Step 2400 per-step time 0.774s\n",
            "INFO:tensorflow:{'Loss/classification_loss': 0.099489294,\n",
            " 'Loss/localization_loss': 0.055822168,\n",
            " 'Loss/regularization_loss': 0.2737247,\n",
            " 'Loss/total_loss': 0.42903617,\n",
            " 'learning_rate': 0.039970152}\n",
            "I0830 06:41:47.620180 138350441377792 model_lib_v2.py:708] {'Loss/classification_loss': 0.099489294,\n",
            " 'Loss/localization_loss': 0.055822168,\n",
            " 'Loss/regularization_loss': 0.2737247,\n",
            " 'Loss/total_loss': 0.42903617,\n",
            " 'learning_rate': 0.039970152}\n",
            "INFO:tensorflow:Step 2500 per-step time 0.774s\n",
            "I0830 06:43:04.979826 138350441377792 model_lib_v2.py:705] Step 2500 per-step time 0.774s\n",
            "INFO:tensorflow:{'Loss/classification_loss': 0.23973598,\n",
            " 'Loss/localization_loss': 0.08226566,\n",
            " 'Loss/regularization_loss': 0.26896,\n",
            " 'Loss/total_loss': 0.59096164,\n",
            " 'learning_rate': 0.039953373}\n",
            "I0830 06:43:04.980305 138350441377792 model_lib_v2.py:708] {'Loss/classification_loss': 0.23973598,\n",
            " 'Loss/localization_loss': 0.08226566,\n",
            " 'Loss/regularization_loss': 0.26896,\n",
            " 'Loss/total_loss': 0.59096164,\n",
            " 'learning_rate': 0.039953373}\n"
          ]
        }
      ]
    },
    {
      "cell_type": "code",
      "source": [
        "pwd"
      ],
      "metadata": {
        "colab": {
          "base_uri": "https://localhost:8080/",
          "height": 35
        },
        "id": "QQsa4hqBNCF3",
        "outputId": "e1408512-1a71-4384-d51e-d33a1da97e4b"
      },
      "execution_count": 29,
      "outputs": [
        {
          "output_type": "execute_result",
          "data": {
            "text/plain": [
              "'/content/training_weapons'"
            ],
            "application/vnd.google.colaboratory.intrinsic+json": {
              "type": "string"
            }
          },
          "metadata": {},
          "execution_count": 29
        }
      ]
    },
    {
      "cell_type": "code",
      "source": [
        "!python exporter_main_v2.py --input_type image_tensor --pipeline_config_path /content/training_weapons/models/ssd_resnet101_v1_fpn/pipeline.config --trained_checkpoint_dir /content/training_weapons/models/ssd_resnet101_v1_fpn --output_directory /content/training_weapons/exported_models/my_model"
      ],
      "metadata": {
        "colab": {
          "base_uri": "https://localhost:8080/"
        },
        "id": "8kEAX_orNk6D",
        "outputId": "423a6d2e-2153-451e-dc7a-d4e6f23cd559"
      },
      "execution_count": 30,
      "outputs": [
        {
          "output_type": "stream",
          "name": "stdout",
          "text": [
            "2023-08-30 06:57:52.137424: W tensorflow/compiler/tf2tensorrt/utils/py_utils.cc:38] TF-TRT Warning: Could not find TensorRT\n",
            "2023-08-30 06:57:58.650651: W tensorflow/core/common_runtime/gpu/gpu_bfc_allocator.cc:47] Overriding orig_value setting because the TF_FORCE_GPU_ALLOW_GROWTH environment variable is set. Original config value was 0.\n",
            "WARNING:tensorflow:From /usr/local/lib/python3.10/dist-packages/tensorflow/python/autograph/impl/api.py:459: calling map_fn_v2 (from tensorflow.python.ops.map_fn) with back_prop=False is deprecated and will be removed in a future version.\n",
            "Instructions for updating:\n",
            "back_prop=False is deprecated. Consider using tf.stop_gradient instead.\n",
            "Instead of:\n",
            "results = tf.map_fn(fn, elems, back_prop=False)\n",
            "Use:\n",
            "results = tf.nest.map_structure(tf.stop_gradient, tf.map_fn(fn, elems))\n",
            "W0830 06:57:59.224032 137051397349376 deprecation.py:641] From /usr/local/lib/python3.10/dist-packages/tensorflow/python/autograph/impl/api.py:459: calling map_fn_v2 (from tensorflow.python.ops.map_fn) with back_prop=False is deprecated and will be removed in a future version.\n",
            "Instructions for updating:\n",
            "back_prop=False is deprecated. Consider using tf.stop_gradient instead.\n",
            "Instead of:\n",
            "results = tf.map_fn(fn, elems, back_prop=False)\n",
            "Use:\n",
            "results = tf.nest.map_structure(tf.stop_gradient, tf.map_fn(fn, elems))\n",
            "I0830 06:58:09.329977 137051397349376 api.py:460] feature_map_spatial_dims: [(80, 80), (40, 40), (20, 20), (10, 10), (5, 5)]\n",
            "I0830 06:58:24.779778 137051397349376 api.py:460] feature_map_spatial_dims: [(80, 80), (40, 40), (20, 20), (10, 10), (5, 5)]\n",
            "I0830 06:58:28.811813 137051397349376 signature_serialization.py:148] Function `call_func` contains input name(s) resource with unsupported characters which will be renamed to weightsharedconvolutionalboxpredictor_classpredictiontower_conv2d_3_batchnorm_feature_4_fusedbatchnormv3_readvariableop_1_resource in the SavedModel.\n",
            "I0830 06:58:30.932842 137051397349376 api.py:460] feature_map_spatial_dims: [(80, 80), (40, 40), (20, 20), (10, 10), (5, 5)]\n",
            "WARNING:tensorflow:Skipping full serialization of Keras layer <object_detection.meta_architectures.ssd_meta_arch.SSDMetaArch object at 0x7ca54b78c220>, because it is not built.\n",
            "W0830 06:58:35.107254 137051397349376 save_impl.py:66] Skipping full serialization of Keras layer <object_detection.meta_architectures.ssd_meta_arch.SSDMetaArch object at 0x7ca54b78c220>, because it is not built.\n",
            "I0830 06:59:07.199597 137051397349376 save.py:274] Found untraced functions such as WeightSharedConvolutionalBoxPredictor_layer_call_fn, WeightSharedConvolutionalBoxPredictor_layer_call_and_return_conditional_losses, WeightSharedConvolutionalBoxHead_layer_call_fn, WeightSharedConvolutionalBoxHead_layer_call_and_return_conditional_losses, WeightSharedConvolutionalClassHead_layer_call_fn while saving (showing 5 of 329). These functions will not be directly callable after loading.\n",
            "INFO:tensorflow:Assets written to: /content/training_weapons/exported_models/my_model/saved_model/assets\n",
            "I0830 06:59:21.095938 137051397349376 builder_impl.py:804] Assets written to: /content/training_weapons/exported_models/my_model/saved_model/assets\n",
            "I0830 06:59:22.055514 137051397349376 fingerprinting_utils.py:48] Writing fingerprint to /content/training_weapons/exported_models/my_model/saved_model/fingerprint.pb\n",
            "INFO:tensorflow:Writing pipeline config file to /content/training_weapons/exported_models/my_model/pipeline.config\n",
            "I0830 06:59:23.443320 137051397349376 config_util.py:253] Writing pipeline config file to /content/training_weapons/exported_models/my_model/pipeline.config\n"
          ]
        }
      ]
    },
    {
      "cell_type": "code",
      "source": [
        "\"\"\"\n",
        "Object Detection (On Image) From TF2 Saved Model\n",
        "=====================================\n",
        "\"\"\"\n",
        "\n",
        "import os\n",
        "os.environ['TF_CPP_MIN_LOG_LEVEL'] = '2'    # Suppress TensorFlow logging (1)\n",
        "import pathlib\n",
        "import tensorflow as tf\n",
        "import cv2\n",
        "import argparse\n",
        "from google.colab.patches import cv2_imshow\n",
        "\n",
        "# Enable GPU dynamic memory allocation\n",
        "gpus = tf.config.experimental.list_physical_devices('GPU')\n",
        "for gpu in gpus:\n",
        "    tf.config.experimental.set_memory_growth(gpu, True)\n",
        "\n",
        "# PROVIDE PATH TO IMAGE DIRECTORY\n",
        "IMAGE_PATHS = '/content/training_weapons/images/test/gun9.jpeg'\n",
        "\n",
        "\n",
        "# PROVIDE PATH TO MODEL DIRECTORY\n",
        "PATH_TO_MODEL_DIR = '/content/training_weapons/exported_models/my_model'\n",
        "\n",
        "# PROVIDE PATH TO LABEL MAP\n",
        "PATH_TO_LABELS = '/content/training_weapons/annotations/label_map.pbtxt'\n",
        "\n",
        "# PROVIDE THE MINIMUM CONFIDENCE THRESHOLD\n",
        "MIN_CONF_THRESH = float(0.60)\n",
        "\n",
        "# LOAD THE MODEL\n",
        "\n",
        "import time\n",
        "from object_detection.utils import label_map_util\n",
        "from object_detection.utils import visualization_utils as viz_utils\n",
        "\n",
        "PATH_TO_SAVED_MODEL = PATH_TO_MODEL_DIR + \"/saved_model\"\n",
        "\n",
        "print('Loading model...', end='')\n",
        "start_time = time.time()\n",
        "\n",
        "# LOAD SAVED MODEL AND BUILD DETECTION FUNCTION\n",
        "detect_fn = tf.saved_model.load(PATH_TO_SAVED_MODEL)\n",
        "\n",
        "end_time = time.time()\n",
        "elapsed_time = end_time - start_time\n",
        "print('Done! Took {} seconds'.format(elapsed_time))\n",
        "\n",
        "# LOAD LABEL MAP DATA FOR PLOTTING\n",
        "\n",
        "category_index = label_map_util.create_category_index_from_labelmap(PATH_TO_LABELS,\n",
        "                                                                    use_display_name=True)\n",
        "\n",
        "import numpy as np\n",
        "from PIL import Image\n",
        "import matplotlib.pyplot as plt\n",
        "import warnings\n",
        "warnings.filterwarnings('ignore')   # Suppress Matplotlib warnings\n",
        "\n",
        "def load_image_into_numpy_array(path):\n",
        "    \"\"\"Load an image from file into a numpy array.\n",
        "    Puts image into numpy array to feed into tensorflow graph.\n",
        "    Note that by convention we put it into a numpy array with shape\n",
        "    (height, width, channels), where channels=3 for RGB.\n",
        "    Args:\n",
        "      path: the file path to the image\n",
        "    Returns:\n",
        "      uint8 numpy array with shape (img_height, img_width, 3)\n",
        "    \"\"\"\n",
        "    return np.array(Image.open(path))\n",
        "\n",
        "\n",
        "\n",
        "\n",
        "print('Running inference for {}... '.format(IMAGE_PATHS), end='')\n",
        "\n",
        "image = cv2.imread(IMAGE_PATHS)\n",
        "image_rgb = cv2.cvtColor(image, cv2.COLOR_BGR2RGB)\n",
        "image_expanded = np.expand_dims(image_rgb, axis=0)\n",
        "\n",
        "# The input needs to be a tensor, convert it using `tf.convert_to_tensor`.\n",
        "input_tensor = tf.convert_to_tensor(image)\n",
        "# The model expects a batch of images, so add an axis with `tf.newaxis`.\n",
        "input_tensor = input_tensor[tf.newaxis, ...]\n",
        "\n",
        "# input_tensor = np.expand_dims(image_np, 0)\n",
        "detections = detect_fn(input_tensor)\n",
        "\n",
        "# All outputs are batches tensors.\n",
        "# Convert to numpy arrays, and take index [0] to remove the batch dimension.\n",
        "# We're only interested in the first num_detections.\n",
        "num_detections = int(detections.pop('num_detections'))\n",
        "detections = {key: value[0, :num_detections].numpy()\n",
        "               for key, value in detections.items()}\n",
        "detections['num_detections'] = num_detections\n",
        "\n",
        "# detection_classes should be ints.\n",
        "detections['detection_classes'] = detections['detection_classes'].astype(np.int64)\n",
        "\n",
        "image_with_detections = image.copy()\n",
        "\n",
        "# SET MIN_SCORE_THRESH BASED ON YOU MINIMUM THRESHOLD FOR DETECTIONS\n",
        "viz_utils.visualize_boxes_and_labels_on_image_array(\n",
        "      image_with_detections,\n",
        "      detections['detection_boxes'],\n",
        "      detections['detection_classes'],\n",
        "      detections['detection_scores'],\n",
        "      category_index,\n",
        "      use_normalized_coordinates=True,\n",
        "      max_boxes_to_draw=200,\n",
        "      min_score_thresh=0.5,\n",
        "      agnostic_mode=False)\n",
        "\n",
        "print('Done')\n",
        "# DISPLAYS OUTPUT IMAGE\n",
        "cv2_imshow(image_with_detections)\n",
        "# CLOSES WINDOW ONCE KEY IS PRESSED\n"
      ],
      "metadata": {
        "colab": {
          "base_uri": "https://localhost:8080/",
          "height": 229
        },
        "id": "vOSooGnvO-lz",
        "outputId": "3828b954-7b96-4c50-e7e4-56bacb5293e3"
      },
      "execution_count": 36,
      "outputs": [
        {
          "output_type": "stream",
          "name": "stdout",
          "text": [
            "Loading model...Done! Took 20.834481477737427 seconds\n",
            "Running inference for /content/training_weapons/images/test/gun9.jpeg... Done\n"
          ]
        },
        {
          "output_type": "display_data",
          "data": {
            "text/plain": [
              "<PIL.Image.Image image mode=RGB size=284x177>"
            ],
            "image/png": "[encoded data removed]"
          },
          "metadata": {}
        }
      ]
    },
    {
      "cell_type": "code",
      "source": [
        "!zip -r /content/training_weapons.zip /content/training_weapons"
      ],
      "metadata": {
        "id": "oTKR1l4RQSY2"
      },
      "execution_count": null,
      "outputs": []
    },
    {
      "cell_type": "code",
      "source": [
        "from google.colab import files\n",
        "files.download(\"/content/training_weapons.zip\")"
      ],
      "metadata": {
        "colab": {
          "base_uri": "https://localhost:8080/",
          "height": 34
        },
        "id": "VlHqp-tGVYVw",
        "outputId": "115dae5f-ebd9-476b-8310-530a29cad78d"
      },
      "execution_count": 38,
      "outputs": [
        {
          "output_type": "display_data",
          "data": {
            "text/plain": [
              "<IPython.core.display.Javascript object>"
            ],
            "application/javascript": [
              "\n",
              "    async function download(id, filename, size) {\n",
              "      if (!google.colab.kernel.accessAllowed) {\n",
              "        return;\n",
              "      }\n",
              "      const div = document.createElement('div');\n",
              "      const label = document.createElement('label');\n",
              "      label.textContent = `Downloading \"${filename}\": `;\n",
              "      div.appendChild(label);\n",
              "      const progress = document.createElement('progress');\n",
              "      progress.max = size;\n",
              "      div.appendChild(progress);\n",
              "      document.body.appendChild(div);\n",
              "\n",
              "      const buffers = [];\n",
              "      let downloaded = 0;\n",
              "\n",
              "      const channel = await google.colab.kernel.comms.open(id);\n",
              "      // Send a message to notify the kernel that we're ready.\n",
              "      channel.send({})\n",
              "\n",
              "      for await (const message of channel.messages) {\n",
              "        // Send a message to notify the kernel that we're ready.\n",
              "        channel.send({})\n",
              "        if (message.buffers) {\n",
              "          for (const buffer of message.buffers) {\n",
              "            buffers.push(buffer);\n",
              "            downloaded += buffer.byteLength;\n",
              "            progress.value = downloaded;\n",
              "          }\n",
              "        }\n",
              "      }\n",
              "      const blob = new Blob(buffers, {type: 'application/binary'});\n",
              "      const a = document.createElement('a');\n",
              "      a.href = window.URL.createObjectURL(blob);\n",
              "      a.download = filename;\n",
              "      div.appendChild(a);\n",
              "      a.click();\n",
              "      div.remove();\n",
              "    }\n",
              "  "
            ]
          },
          "metadata": {}
        },
        {
          "output_type": "display_data",
          "data": {
            "text/plain": [
              "<IPython.core.display.Javascript object>"
            ],
            "application/javascript": [
              "download(\"download_0e6b5633-9e50-48b7-b760-f91cb0106eb0\", \"training_weapons.zip\", 2096999972)"
            ]
          },
          "metadata": {}
        }
      ]
    },
    {
      "cell_type": "code",
      "source": [],
      "metadata": {
        "id": "JZrFlLP-WKsz"
      },
      "execution_count": null,
      "outputs": []
    }
  ]
}